{
  "cells": [
    {
      "cell_type": "code",
      "execution_count": null,
      "id": "73f991f5-6407-4055-9d6a-f655ffaed345",
      "metadata": {
        "id": "73f991f5-6407-4055-9d6a-f655ffaed345"
      },
      "outputs": [],
      "source": [
        "import netCDF4 as nc\n",
        "import pandas as pd"
      ]
    },
    {
      "cell_type": "code",
      "execution_count": null,
      "id": "5cd93111-46fb-457b-8850-f485db1e1c28",
      "metadata": {
        "id": "5cd93111-46fb-457b-8850-f485db1e1c28",
        "outputId": "f9e73c46-8016-420c-a46b-a6900e6c857a"
      },
      "outputs": [
        {
          "data": {
            "text/plain": [
              "<class 'netCDF4._netCDF4.Dataset'>\n",
              "root group (NETCDF4 data model, file format HDF5):\n",
              "    Conventions: CF-1.6, ACDD-1.3\n",
              "    title: NOAA Merged Land Ocean Global Surface Temperature Analysis (NOAAGlobalTemp)\n",
              "    summary: NOAAGlobalTemp is a merged land-ocean surface temperature analysis, formerly abbreviated as MLOST. The SST dataset is the Extended Reconstructed Sea Surface Temperature (ERSST) and the land surface air temperature dataset is from the Global Historical Climatology Network Monthly (GHCN-M) database.\n",
              "    institution: DOC/NOAA/NESDIS/National Centers for Environmental Information(NCEI)\n",
              "    id:  gov.noaa.ncdc:C00934 \n",
              "    naming_authority:  gov.noaa.ncei \n",
              "    project:  NOAAGlobalTemp \n",
              "    platform: Ships, moored buoys, surface drifting buoys, Argo floats, and weather stations\n",
              "    instrument: Conventional thermometers\n",
              "    history: Version 5.0.0, blending ERSST V5 and GHCN-M V4.\n",
              "    comment: Merged land ocean surface temperature anomalies.\n",
              "    product_version: 5.0.0\n",
              "    source: NOAAGlobalTemp combines a global sea surface temperature with a global land surface air temperature data\n",
              "    ncei_template_version: NCEI_NetCDF_Grid_Template_v2.0\n",
              "    Metadata_Conventions: Unidata Dataset Discovery v1.0\n",
              "    license: These data are available for use without restriction.\n",
              "    creator_name: Boyin Huang, Xungang Yin, Ph.D\n",
              "    creator_email: Boyin.Huang@noaa.gov, Xungang.Yin@noaa.gov\n",
              "    creator_type: group\n",
              "    creator_institution: US DOC/NOAA/NESDIS/National Centers for Environmental Information(NCEI)\n",
              "    contributor_name: Huai-min Zhang, Ph.D\n",
              "    contributor_role: Chief, NOAA/NESDIS/NCEI/CCOG/OSB Ocean Surface Section\n",
              "    publisher_name: NCEI\n",
              "    publisher_institution: NCEI\n",
              "    publisher_url: https://www.ncdc.noaa.gov/\n",
              "    publisher_email: ncei.info@noaa.gov\n",
              "    publisher_type: institution\n",
              "    keywords: Earth Science > Oceans > Ocean Temperature > Sea Surface Temperature, Earth Science > Atmosphere > Atmospheric Temperature > Surface Temperature > Air Temperature\n",
              "    keywords_vocabulary: NASA Global Change Master Directory (GCMD) Science Keywords\n",
              "    standard_name_vocabulary: Climate and Forecast (CF) Standard Name Table (Version 46, 25 July 2017)\n",
              "    date_created: 2023-01-08T18:33:09Z\n",
              "    necdf_version_id: 4.2.1.1\n",
              "    netcdf_creator_name: Yongsheng Zhang, Ph.D\n",
              "    netcdf_creator_email: yongsheng.zhang@noaa.gov\n",
              "    dataset_citation_product: NOAA Merged Land Ocean Global Surface Temperature Analysis (NOAAGlobalTemp)\n",
              "    dataset_citation_version: 5.0.0\n",
              "    dataset_citation_institution: NOAA/NESDIS/NCEI, Asheville, NC, USA\n",
              "    dataset_citation_url: https://doi.org/10.25921/9qth-2p70\n",
              "    metadata_link: https://doi.org/10.25921/9qth-2p70\n",
              "    cdm_data_type: Grid\n",
              "    grid_mapping_name: latitude_longitude\n",
              "    processing_level: NOAA Processing Level 4\n",
              "    geospatial_lon_min: 2.5\n",
              "    geospatial_lon_max: 357.5\n",
              "    geospatial_lon_units: degrees_east\n",
              "    geospatial_lon_resolution: 5.0 degree\n",
              "    geospatial_lat_min: -87.5\n",
              "    geospatial_lat_max: 87.5\n",
              "    geospatial_lat_units: degrees_north\n",
              "    geospatial_lat_resolution: 5.0 degree\n",
              "    geospatial_bounds: POLYGON ((2.5 -87.5, 2.5 87.5, 357.5 87.5, 357.5 -87.5, 2.5 -87.5))\n",
              "    geospatial_bounds_crs: EPSG:4326\n",
              "    geospatial_vertical_min: 0.0\n",
              "    geospatial_vertical_max: 0.0\n",
              "    geospatial_vertical_units: meters\n",
              "    geospatial_vertical_resolution: 0.f\n",
              "    geospatial_vertical_positive: up\n",
              "    time_coverage_start: 1880-01\n",
              "    time_coverage_end: 2022-12\n",
              "    time_coverage_resolution: P1M\n",
              "    time_coverage_duration: P143Y0M\n",
              "    references: Vose, R. S., et al., 2012: NOAAs merged land-ocean surface temperature analysis. Bulletin of the American Meteorological Society, 93, 1677-1685. doi: 10.1175/BAMS-D-11-00241.1. Huang, B., Peter W. Thorne, et. al, 2017: Extended Reconstructed Sea Surface Temperature version 5 (ERSSTv5), Upgrades, validations, and intercomparisons. J. Climate, 30, 8179-8205. doi: 10.1175/JCLI-D-16-0836.1\n",
              "    climatology: Climatology is based on 1971-2000 monthly climatology\n",
              "    acknowledgment: The NOAA Global Surface Temperature Dataset is provided by the NOAA National Centers for Environmental Information(NCEI)\n",
              "    date_modified: 2023-01-08T18:33:09Z\n",
              "    date_issued: 2023-01-08T18:33:09Z\n",
              "    dimensions(sizes): time(1716), lat(36), lon(72), z(1)\n",
              "    variables(dimensions): float32 time(time), float32 lat(lat), float32 lon(lon), float32 z(z), float32 anom(time, z, lat, lon)\n",
              "    groups: "
            ]
          },
          "execution_count": 20,
          "metadata": {},
          "output_type": "execute_result"
        }
      ],
      "source": [
        "dataset = nc.Dataset('path-to/NOAAGlobalTemp_v5.0.0_gridded_s188001_e202212_c20230108T133308.nc', 'r')\n",
        "dataset"
      ]
    },
    {
      "cell_type": "code",
      "execution_count": null,
      "id": "a93f345f-7978-406e-90ed-9b4d743cb723",
      "metadata": {
        "id": "a93f345f-7978-406e-90ed-9b4d743cb723"
      },
      "outputs": [],
      "source": [
        "dataset2 = nc.Dataset('path-to/precip.mon.total.v7.nc', 'r')\n",
        "#dataset2"
      ]
    },
    {
      "cell_type": "code",
      "execution_count": null,
      "id": "f0571b8e-9ff8-49dd-992f-581758078b02",
      "metadata": {
        "id": "f0571b8e-9ff8-49dd-992f-581758078b02",
        "outputId": "f600369b-b6d7-4a58-c99d-1dd62f9f2aa7"
      },
      "outputs": [
        {
          "name": "stdout",
          "output_type": "stream",
          "text": [
            "dict_keys(['time', 'lat', 'lon', 'z', 'anom'])\n"
          ]
        }
      ],
      "source": [
        "variable_names = dataset.variables.keys()\n",
        "print(variable_names)"
      ]
    },
    {
      "cell_type": "code",
      "execution_count": null,
      "id": "eb9d678f-3d30-4f83-8340-b853456a08b6",
      "metadata": {
        "id": "eb9d678f-3d30-4f83-8340-b853456a08b6",
        "outputId": "a0560e19-5a93-4176-e12d-a489deaad46b"
      },
      "outputs": [
        {
          "data": {
            "text/plain": [
              "<class 'netCDF4._netCDF4.Variable'>\n",
              "float32 lat(lat)\n",
              "    long_name: Latitude\n",
              "    standard_name: latitude\n",
              "    coverage_content_type: coordinate\n",
              "    units: degrees_north\n",
              "    grids: Uniform grid from -87.5 to 87.5 by 5\n",
              "    valid_min: -87.5\n",
              "    valid_max: 87.5\n",
              "    axis: Y\n",
              "    _CoordinateAxisType: Lat\n",
              "    coordinate_defines: center\n",
              "unlimited dimensions: \n",
              "current shape = (36,)\n",
              "filling on, default _FillValue of 9.969209968386869e+36 used"
            ]
          },
          "execution_count": 6,
          "metadata": {},
          "output_type": "execute_result"
        }
      ],
      "source": [
        "lat = dataset.variables ['lat']\n",
        "lat"
      ]
    },
    {
      "cell_type": "code",
      "execution_count": null,
      "id": "200bf0b9-fcce-4c1a-977b-ca610586cdc5",
      "metadata": {
        "id": "200bf0b9-fcce-4c1a-977b-ca610586cdc5"
      },
      "outputs": [],
      "source": [
        "temp = dataset.variables ['anom']"
      ]
    },
    {
      "cell_type": "code",
      "execution_count": null,
      "id": "58bbeb07-dc22-4726-ad4e-23b253520654",
      "metadata": {
        "id": "58bbeb07-dc22-4726-ad4e-23b253520654",
        "outputId": "9ca7c8fd-1e8f-4d81-e9a0-9e85384c85bb"
      },
      "outputs": [
        {
          "data": {
            "text/plain": [
              "<class 'netCDF4._netCDF4.Variable'>\n",
              "float32 anom(time, z, lat, lon)\n",
              "    long_name: Global Temperature Anomalies\n",
              "    standard_name: surface_temperature_anomaly\n",
              "    coverage_content_type: physicalMeasurement\n",
              "    units: degrees C\n",
              "    missing_value: -999.9\n",
              "    _FillValue: -999.9\n",
              "    add_offset: 0.0\n",
              "    scale_factor: 1.0\n",
              "    valid_min: -40.0\n",
              "    valid_max: 40.0\n",
              "    coordinates: time z lat lon\n",
              "unlimited dimensions: \n",
              "current shape = (1716, 1, 36, 72)\n",
              "filling on"
            ]
          },
          "execution_count": 12,
          "metadata": {},
          "output_type": "execute_result"
        }
      ],
      "source": [
        "temp"
      ]
    },
    {
      "cell_type": "code",
      "execution_count": null,
      "id": "7db090f0-6c79-4d61-a8a7-e548ad55ff1e",
      "metadata": {
        "id": "7db090f0-6c79-4d61-a8a7-e548ad55ff1e"
      },
      "outputs": [],
      "source": [
        "temp_data = dataset.variables['anom'][:]"
      ]
    },
    {
      "cell_type": "code",
      "execution_count": null,
      "id": "28640e2a-f540-4cca-812c-6e28ab59b521",
      "metadata": {
        "id": "28640e2a-f540-4cca-812c-6e28ab59b521"
      },
      "outputs": [],
      "source": [
        "lat_min, lat_max = 1.318, 20.633\n",
        "lon_min, lon_max = 9.053, 31.113"
      ]
    },
    {
      "cell_type": "code",
      "execution_count": null,
      "id": "0c47663c-54cb-4ee0-b97b-d4ef60b1b4d5",
      "metadata": {
        "id": "0c47663c-54cb-4ee0-b97b-d4ef60b1b4d5"
      },
      "outputs": [],
      "source": [
        "import numpy as np\n",
        "lat = dataset.variables['lat'][:]\n",
        "lon = dataset.variables['lon'][:]\n",
        "#lat_indices = np.where(lat >= lat_min) & (lat <= lat_max)[0]\n",
        "#lon_indices = np.where(lon >= lon_min) & (lon <= lon_max)[0]\n",
        "lat_indices = np.searchsorted(lat, [lat_min, lat_max])\n",
        "lon_indices = np.searchsorted(lon, [lon_min, lon_max])"
      ]
    },
    {
      "cell_type": "code",
      "execution_count": null,
      "id": "713792d7-8e05-4ffa-8cb8-4c8382df1e1e",
      "metadata": {
        "id": "713792d7-8e05-4ffa-8cb8-4c8382df1e1e",
        "outputId": "36e328f3-a687-4e03-95d6-3fd63cdca0ba"
      },
      "outputs": [
        {
          "data": {
            "text/html": [
              "<div>\n",
              "<style scoped>\n",
              "    .dataframe tbody tr th:only-of-type {\n",
              "        vertical-align: middle;\n",
              "    }\n",
              "\n",
              "    .dataframe tbody tr th {\n",
              "        vertical-align: top;\n",
              "    }\n",
              "\n",
              "    .dataframe thead th {\n",
              "        text-align: right;\n",
              "    }\n",
              "</style>\n",
              "<table border=\"1\" class=\"dataframe\">\n",
              "  <thead>\n",
              "    <tr style=\"text-align: right;\">\n",
              "      <th></th>\n",
              "      <th>0</th>\n",
              "    </tr>\n",
              "  </thead>\n",
              "  <tbody>\n",
              "    <tr>\n",
              "      <th>0</th>\n",
              "      <td>2</td>\n",
              "    </tr>\n",
              "    <tr>\n",
              "      <th>1</th>\n",
              "      <td>6</td>\n",
              "    </tr>\n",
              "  </tbody>\n",
              "</table>\n",
              "</div>"
            ],
            "text/plain": [
              "   0\n",
              "0  2\n",
              "1  6"
            ]
          },
          "execution_count": 19,
          "metadata": {},
          "output_type": "execute_result"
        }
      ],
      "source": [
        "df = pd.DataFrame(lon_indices)\n",
        "df1 = pd.DataFrame(lat_indices)\n",
        "df"
      ]
    },
    {
      "cell_type": "code",
      "execution_count": null,
      "id": "154f1c5e-3aff-4b3a-b944-bfe6d0bdc35b",
      "metadata": {
        "id": "154f1c5e-3aff-4b3a-b944-bfe6d0bdc35b",
        "outputId": "9c42c3f5-58b4-4d2a-eb63-7b47253e0e73"
      },
      "outputs": [
        {
          "data": {
            "text/plain": [
              "masked_array(\n",
              "  data=[[[[--, --, --, --],\n",
              "          [--, --, --, --],\n",
              "          [--, --, --, --],\n",
              "          [--, --, --, --]]],\n",
              "\n",
              "\n",
              "        [[[--, --, --, --],\n",
              "          [--, --, --, --],\n",
              "          [--, --, --, --],\n",
              "          [--, --, --, --]]],\n",
              "\n",
              "\n",
              "        [[[--, --, --, --],\n",
              "          [--, --, --, --],\n",
              "          [--, --, --, --],\n",
              "          [--, --, --, --]]],\n",
              "\n",
              "\n",
              "        ...,\n",
              "\n",
              "\n",
              "        [[[1.115722894668579, 1.3334460258483887, 1.733852505683899,\n",
              "           1.736942172050476],\n",
              "          [0.5634891390800476, 0.8149952292442322, 1.1685633659362793,\n",
              "           1.23863685131073],\n",
              "          [-0.13441035151481628, -0.21748760342597961,\n",
              "           -0.022795557975769043, -0.07569509744644165],\n",
              "          [-0.21568381786346436, -0.46628880500793457,\n",
              "           -0.3644026219844818, 0.12995927035808563]]],\n",
              "\n",
              "\n",
              "        [[[1.065653920173645, 1.1346665620803833, 0.9089114665985107,\n",
              "           1.0080486536026],\n",
              "          [1.0774524211883545, 1.1668460369110107, 0.32432568073272705,\n",
              "           0.24176011979579926],\n",
              "          [0.124263696372509, 0.075214684009552, 0.38420745730400085,\n",
              "           0.16340665519237518],\n",
              "          [-0.3707621097564697, 0.0396384596824646,\n",
              "           0.013788172975182533, 0.5146580934524536]]],\n",
              "\n",
              "\n",
              "        [[[1.0178784132003784, 0.6992282271385193, 0.8345258831977844,\n",
              "           0.6645691394805908],\n",
              "          [1.2877976894378662, 1.4803707599639893, 0.574885368347168,\n",
              "           0.4851776659488678],\n",
              "          [0.5574641823768616, 0.7649120688438416, 0.9653716683387756,\n",
              "           0.5577117800712585],\n",
              "          [1.2383580207824707, 1.3075666427612305, 0.7345560193061829,\n",
              "           1.106014609336853]]]],\n",
              "  mask=[[[[ True,  True,  True,  True],\n",
              "          [ True,  True,  True,  True],\n",
              "          [ True,  True,  True,  True],\n",
              "          [ True,  True,  True,  True]]],\n",
              "\n",
              "\n",
              "        [[[ True,  True,  True,  True],\n",
              "          [ True,  True,  True,  True],\n",
              "          [ True,  True,  True,  True],\n",
              "          [ True,  True,  True,  True]]],\n",
              "\n",
              "\n",
              "        [[[ True,  True,  True,  True],\n",
              "          [ True,  True,  True,  True],\n",
              "          [ True,  True,  True,  True],\n",
              "          [ True,  True,  True,  True]]],\n",
              "\n",
              "\n",
              "        ...,\n",
              "\n",
              "\n",
              "        [[[False, False, False, False],\n",
              "          [False, False, False, False],\n",
              "          [False, False, False, False],\n",
              "          [False, False, False, False]]],\n",
              "\n",
              "\n",
              "        [[[False, False, False, False],\n",
              "          [False, False, False, False],\n",
              "          [False, False, False, False],\n",
              "          [False, False, False, False]]],\n",
              "\n",
              "\n",
              "        [[[False, False, False, False],\n",
              "          [False, False, False, False],\n",
              "          [False, False, False, False],\n",
              "          [False, False, False, False]]]],\n",
              "  fill_value=-999.9,\n",
              "  dtype=float32)"
            ]
          },
          "execution_count": 57,
          "metadata": {},
          "output_type": "execute_result"
        }
      ],
      "source": [
        "subset_temp_data = temp_data[:, :, lat_indices[0]:lat_indices[1], lon_indices[0]:lon_indices[1]]\n",
        "subset_temp_data"
      ]
    },
    {
      "cell_type": "code",
      "execution_count": null,
      "id": "7716bec2-b4ef-4c69-b4fd-4314e7c34f06",
      "metadata": {
        "id": "7716bec2-b4ef-4c69-b4fd-4314e7c34f06"
      },
      "outputs": [],
      "source": [
        "subset_temp_data\n",
        "data = subset_temp_data.data\n",
        "mask = subset_temp_data.mask"
      ]
    },
    {
      "cell_type": "code",
      "execution_count": null,
      "id": "e62c9ddc-fe01-4272-891c-d87e108608a2",
      "metadata": {
        "id": "e62c9ddc-fe01-4272-891c-d87e108608a2",
        "outputId": "81ce5252-560c-420f-d14c-897bdca0ad98"
      },
      "outputs": [
        {
          "name": "stdout",
          "output_type": "stream",
          "text": [
            "               0           1           2           3\n",
            "0    -999.900024 -999.900024 -999.900024 -999.900024\n",
            "1    -999.900024 -999.900024 -999.900024 -999.900024\n",
            "2    -999.900024 -999.900024 -999.900024 -999.900024\n",
            "3    -999.900024 -999.900024 -999.900024 -999.900024\n",
            "4    -999.900024 -999.900024 -999.900024 -999.900024\n",
            "...          ...         ...         ...         ...\n",
            "6859   -0.370762    0.039638    0.013788    0.514658\n",
            "6860    1.017878    0.699228    0.834526    0.664569\n",
            "6861    1.287798    1.480371    0.574885    0.485178\n",
            "6862    0.557464    0.764912    0.965372    0.557712\n",
            "6863    1.238358    1.307567    0.734556    1.106015\n",
            "\n",
            "[6864 rows x 4 columns]\n"
          ]
        }
      ],
      "source": [
        "mask_df = pd.DataFrame(mask.reshape(-1, 4))\n",
        "data_df = pd.DataFrame(data.reshape(-1, 4))\n",
        "data_df = data_df.replace(-999.900024, pd.NA)\n",
        "print(data_df)"
      ]
    },
    {
      "cell_type": "code",
      "execution_count": null,
      "id": "1e36b751-e8d4-426d-8099-ef32c1afd45d",
      "metadata": {
        "id": "1e36b751-e8d4-426d-8099-ef32c1afd45d",
        "outputId": "af6e724f-f08a-42c6-fdaf-750d5c2199f1"
      },
      "outputs": [
        {
          "data": {
            "text/html": [
              "<div>\n",
              "<style scoped>\n",
              "    .dataframe tbody tr th:only-of-type {\n",
              "        vertical-align: middle;\n",
              "    }\n",
              "\n",
              "    .dataframe tbody tr th {\n",
              "        vertical-align: top;\n",
              "    }\n",
              "\n",
              "    .dataframe thead th {\n",
              "        text-align: right;\n",
              "    }\n",
              "</style>\n",
              "<table border=\"1\" class=\"dataframe\">\n",
              "  <thead>\n",
              "    <tr style=\"text-align: right;\">\n",
              "      <th></th>\n",
              "      <th>0</th>\n",
              "      <th>1</th>\n",
              "      <th>2</th>\n",
              "      <th>3</th>\n",
              "      <th>0</th>\n",
              "      <th>1</th>\n",
              "      <th>2</th>\n",
              "      <th>3</th>\n",
              "    </tr>\n",
              "  </thead>\n",
              "  <tbody>\n",
              "    <tr>\n",
              "      <th>0</th>\n",
              "      <td>-999.900024</td>\n",
              "      <td>-999.900024</td>\n",
              "      <td>-999.900024</td>\n",
              "      <td>-999.900024</td>\n",
              "      <td>True</td>\n",
              "      <td>True</td>\n",
              "      <td>True</td>\n",
              "      <td>True</td>\n",
              "    </tr>\n",
              "    <tr>\n",
              "      <th>1</th>\n",
              "      <td>-999.900024</td>\n",
              "      <td>-999.900024</td>\n",
              "      <td>-999.900024</td>\n",
              "      <td>-999.900024</td>\n",
              "      <td>True</td>\n",
              "      <td>True</td>\n",
              "      <td>True</td>\n",
              "      <td>True</td>\n",
              "    </tr>\n",
              "    <tr>\n",
              "      <th>2</th>\n",
              "      <td>-999.900024</td>\n",
              "      <td>-999.900024</td>\n",
              "      <td>-999.900024</td>\n",
              "      <td>-999.900024</td>\n",
              "      <td>True</td>\n",
              "      <td>True</td>\n",
              "      <td>True</td>\n",
              "      <td>True</td>\n",
              "    </tr>\n",
              "    <tr>\n",
              "      <th>3</th>\n",
              "      <td>-999.900024</td>\n",
              "      <td>-999.900024</td>\n",
              "      <td>-999.900024</td>\n",
              "      <td>-999.900024</td>\n",
              "      <td>True</td>\n",
              "      <td>True</td>\n",
              "      <td>True</td>\n",
              "      <td>True</td>\n",
              "    </tr>\n",
              "    <tr>\n",
              "      <th>4</th>\n",
              "      <td>-999.900024</td>\n",
              "      <td>-999.900024</td>\n",
              "      <td>-999.900024</td>\n",
              "      <td>-999.900024</td>\n",
              "      <td>True</td>\n",
              "      <td>True</td>\n",
              "      <td>True</td>\n",
              "      <td>True</td>\n",
              "    </tr>\n",
              "    <tr>\n",
              "      <th>...</th>\n",
              "      <td>...</td>\n",
              "      <td>...</td>\n",
              "      <td>...</td>\n",
              "      <td>...</td>\n",
              "      <td>...</td>\n",
              "      <td>...</td>\n",
              "      <td>...</td>\n",
              "      <td>...</td>\n",
              "    </tr>\n",
              "    <tr>\n",
              "      <th>6859</th>\n",
              "      <td>-0.370762</td>\n",
              "      <td>0.039638</td>\n",
              "      <td>0.013788</td>\n",
              "      <td>0.514658</td>\n",
              "      <td>False</td>\n",
              "      <td>False</td>\n",
              "      <td>False</td>\n",
              "      <td>False</td>\n",
              "    </tr>\n",
              "    <tr>\n",
              "      <th>6860</th>\n",
              "      <td>1.017878</td>\n",
              "      <td>0.699228</td>\n",
              "      <td>0.834526</td>\n",
              "      <td>0.664569</td>\n",
              "      <td>False</td>\n",
              "      <td>False</td>\n",
              "      <td>False</td>\n",
              "      <td>False</td>\n",
              "    </tr>\n",
              "    <tr>\n",
              "      <th>6861</th>\n",
              "      <td>1.287798</td>\n",
              "      <td>1.480371</td>\n",
              "      <td>0.574885</td>\n",
              "      <td>0.485178</td>\n",
              "      <td>False</td>\n",
              "      <td>False</td>\n",
              "      <td>False</td>\n",
              "      <td>False</td>\n",
              "    </tr>\n",
              "    <tr>\n",
              "      <th>6862</th>\n",
              "      <td>0.557464</td>\n",
              "      <td>0.764912</td>\n",
              "      <td>0.965372</td>\n",
              "      <td>0.557712</td>\n",
              "      <td>False</td>\n",
              "      <td>False</td>\n",
              "      <td>False</td>\n",
              "      <td>False</td>\n",
              "    </tr>\n",
              "    <tr>\n",
              "      <th>6863</th>\n",
              "      <td>1.238358</td>\n",
              "      <td>1.307567</td>\n",
              "      <td>0.734556</td>\n",
              "      <td>1.106015</td>\n",
              "      <td>False</td>\n",
              "      <td>False</td>\n",
              "      <td>False</td>\n",
              "      <td>False</td>\n",
              "    </tr>\n",
              "  </tbody>\n",
              "</table>\n",
              "<p>6864 rows × 8 columns</p>\n",
              "</div>"
            ],
            "text/plain": [
              "               0           1           2           3      0      1      2  \\\n",
              "0    -999.900024 -999.900024 -999.900024 -999.900024   True   True   True   \n",
              "1    -999.900024 -999.900024 -999.900024 -999.900024   True   True   True   \n",
              "2    -999.900024 -999.900024 -999.900024 -999.900024   True   True   True   \n",
              "3    -999.900024 -999.900024 -999.900024 -999.900024   True   True   True   \n",
              "4    -999.900024 -999.900024 -999.900024 -999.900024   True   True   True   \n",
              "...          ...         ...         ...         ...    ...    ...    ...   \n",
              "6859   -0.370762    0.039638    0.013788    0.514658  False  False  False   \n",
              "6860    1.017878    0.699228    0.834526    0.664569  False  False  False   \n",
              "6861    1.287798    1.480371    0.574885    0.485178  False  False  False   \n",
              "6862    0.557464    0.764912    0.965372    0.557712  False  False  False   \n",
              "6863    1.238358    1.307567    0.734556    1.106015  False  False  False   \n",
              "\n",
              "          3  \n",
              "0      True  \n",
              "1      True  \n",
              "2      True  \n",
              "3      True  \n",
              "4      True  \n",
              "...     ...  \n",
              "6859  False  \n",
              "6860  False  \n",
              "6861  False  \n",
              "6862  False  \n",
              "6863  False  \n",
              "\n",
              "[6864 rows x 8 columns]"
            ]
          },
          "execution_count": 73,
          "metadata": {},
          "output_type": "execute_result"
        }
      ],
      "source": [
        "DF = pd.concat([data_df, mask_df], axis = 1)\n",
        "DF"
      ]
    }
  ],
  "metadata": {
    "kernelspec": {
      "display_name": "Python 3 (ipykernel)",
      "language": "python",
      "name": "python3"
    },
    "language_info": {
      "codemirror_mode": {
        "name": "ipython",
        "version": 3
      },
      "file_extension": ".py",
      "mimetype": "text/x-python",
      "name": "python",
      "nbconvert_exporter": "python",
      "pygments_lexer": "ipython3",
      "version": "3.10.12"
    },
    "colab": {
      "provenance": []
    }
  },
  "nbformat": 4,
  "nbformat_minor": 5
}