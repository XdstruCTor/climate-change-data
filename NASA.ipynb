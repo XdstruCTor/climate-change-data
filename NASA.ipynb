{
  "cells": [
    {
      "cell_type": "markdown",
      "metadata": {
        "id": "view-in-github",
        "colab_type": "text"
      },
      "source": [
        "<a href=\"https://colab.research.google.com/github/XdstruCTor/climate-change-data/blob/main/NASA.ipynb\" target=\"_parent\"><img src=\"https://colab.research.google.com/assets/colab-badge.svg\" alt=\"Open In Colab\"/></a>"
      ]
    },
    {
      "cell_type": "code",
      "execution_count": null,
      "metadata": {
        "id": "-97CtUZha4Va"
      },
      "outputs": [],
      "source": [
        "import matplotlib.pyplot as plt\n",
        "import numpy as np\n",
        "import pandas as pd"
      ]
    },
    {
      "cell_type": "code",
      "execution_count": null,
      "metadata": {
        "colab": {
          "base_uri": "https://localhost:8080/"
        },
        "id": "JjesC5vOhG9s",
        "outputId": "eb0f3eb8-addc-4f11-87b5-c815a62a4581"
      },
      "outputs": [
        {
          "output_type": "stream",
          "name": "stdout",
          "text": [
            "Collecting rasterio\n",
            "  Downloading rasterio-1.4.1-cp310-cp310-manylinux_2_17_x86_64.manylinux2014_x86_64.whl.metadata (9.1 kB)\n",
            "Collecting affine (from rasterio)\n",
            "  Downloading affine-2.4.0-py3-none-any.whl.metadata (4.0 kB)\n",
            "Requirement already satisfied: attrs in /usr/local/lib/python3.10/dist-packages (from rasterio) (24.2.0)\n",
            "Requirement already satisfied: certifi in /usr/local/lib/python3.10/dist-packages (from rasterio) (2024.8.30)\n",
            "Requirement already satisfied: click>=4.0 in /usr/local/lib/python3.10/dist-packages (from rasterio) (8.1.7)\n",
            "Collecting cligj>=0.5 (from rasterio)\n",
            "  Downloading cligj-0.7.2-py3-none-any.whl.metadata (5.0 kB)\n",
            "Requirement already satisfied: numpy>=1.24 in /usr/local/lib/python3.10/dist-packages (from rasterio) (1.26.4)\n",
            "Collecting click-plugins (from rasterio)\n",
            "  Downloading click_plugins-1.1.1-py2.py3-none-any.whl.metadata (6.4 kB)\n",
            "Requirement already satisfied: pyparsing in /usr/local/lib/python3.10/dist-packages (from rasterio) (3.1.4)\n",
            "Downloading rasterio-1.4.1-cp310-cp310-manylinux_2_17_x86_64.manylinux2014_x86_64.whl (22.2 MB)\n",
            "\u001b[2K   \u001b[90m━━━━━━━━━━━━━━━━━━━━━━━━━━━━━━━━━━━━━━━━\u001b[0m \u001b[32m22.2/22.2 MB\u001b[0m \u001b[31m51.9 MB/s\u001b[0m eta \u001b[36m0:00:00\u001b[0m\n",
            "\u001b[?25hDownloading cligj-0.7.2-py3-none-any.whl (7.1 kB)\n",
            "Downloading affine-2.4.0-py3-none-any.whl (15 kB)\n",
            "Downloading click_plugins-1.1.1-py2.py3-none-any.whl (7.5 kB)\n",
            "Installing collected packages: cligj, click-plugins, affine, rasterio\n",
            "Successfully installed affine-2.4.0 click-plugins-1.1.1 cligj-0.7.2 rasterio-1.4.1\n"
          ]
        }
      ],
      "source": [
        "!pip install rasterio\n"
      ]
    },
    {
      "cell_type": "code",
      "execution_count": null,
      "metadata": {
        "id": "RRnFQGk0yrDT"
      },
      "outputs": [],
      "source": [
        "import rasterio\n",
        "from rasterio.merge import merge\n",
        "from rasterio.plot import show\n",
        "import os"
      ]
    },
    {
      "cell_type": "code",
      "execution_count": null,
      "metadata": {
        "id": "maBpTbwo0pWx"
      },
      "outputs": [],
      "source": [
        "import zipfile"
      ]
    },
    {
      "cell_type": "code",
      "execution_count": null,
      "metadata": {
        "colab": {
          "base_uri": "https://localhost:8080/",
          "height": 304
        },
        "id": "z9c7STdAiXPW",
        "outputId": "a1ab9cf4-fda6-4998-c774-eb31be5b9995"
      },
      "outputs": [
        {
          "output_type": "error",
          "ename": "MessageError",
          "evalue": "Error: credential propagation was unsuccessful",
          "traceback": [
            "\u001b[0;31m---------------------------------------------------------------------------\u001b[0m",
            "\u001b[0;31mMessageError\u001b[0m                              Traceback (most recent call last)",
            "\u001b[0;32m<ipython-input-5-d5df0069828e>\u001b[0m in \u001b[0;36m<cell line: 2>\u001b[0;34m()\u001b[0m\n\u001b[1;32m      1\u001b[0m \u001b[0;32mfrom\u001b[0m \u001b[0mgoogle\u001b[0m\u001b[0;34m.\u001b[0m\u001b[0mcolab\u001b[0m \u001b[0;32mimport\u001b[0m \u001b[0mdrive\u001b[0m\u001b[0;34m\u001b[0m\u001b[0;34m\u001b[0m\u001b[0m\n\u001b[0;32m----> 2\u001b[0;31m \u001b[0mdrive\u001b[0m\u001b[0;34m.\u001b[0m\u001b[0mmount\u001b[0m\u001b[0;34m(\u001b[0m\u001b[0;34m'/content/drive'\u001b[0m\u001b[0;34m)\u001b[0m\u001b[0;34m\u001b[0m\u001b[0;34m\u001b[0m\u001b[0m\n\u001b[0m",
            "\u001b[0;32m/usr/local/lib/python3.10/dist-packages/google/colab/drive.py\u001b[0m in \u001b[0;36mmount\u001b[0;34m(mountpoint, force_remount, timeout_ms, readonly)\u001b[0m\n\u001b[1;32m     98\u001b[0m \u001b[0;32mdef\u001b[0m \u001b[0mmount\u001b[0m\u001b[0;34m(\u001b[0m\u001b[0mmountpoint\u001b[0m\u001b[0;34m,\u001b[0m \u001b[0mforce_remount\u001b[0m\u001b[0;34m=\u001b[0m\u001b[0;32mFalse\u001b[0m\u001b[0;34m,\u001b[0m \u001b[0mtimeout_ms\u001b[0m\u001b[0;34m=\u001b[0m\u001b[0;36m120000\u001b[0m\u001b[0;34m,\u001b[0m \u001b[0mreadonly\u001b[0m\u001b[0;34m=\u001b[0m\u001b[0;32mFalse\u001b[0m\u001b[0;34m)\u001b[0m\u001b[0;34m:\u001b[0m\u001b[0;34m\u001b[0m\u001b[0;34m\u001b[0m\u001b[0m\n\u001b[1;32m     99\u001b[0m   \u001b[0;34m\"\"\"Mount your Google Drive at the specified mountpoint path.\"\"\"\u001b[0m\u001b[0;34m\u001b[0m\u001b[0;34m\u001b[0m\u001b[0m\n\u001b[0;32m--> 100\u001b[0;31m   return _mount(\n\u001b[0m\u001b[1;32m    101\u001b[0m       \u001b[0mmountpoint\u001b[0m\u001b[0;34m,\u001b[0m\u001b[0;34m\u001b[0m\u001b[0;34m\u001b[0m\u001b[0m\n\u001b[1;32m    102\u001b[0m       \u001b[0mforce_remount\u001b[0m\u001b[0;34m=\u001b[0m\u001b[0mforce_remount\u001b[0m\u001b[0;34m,\u001b[0m\u001b[0;34m\u001b[0m\u001b[0;34m\u001b[0m\u001b[0m\n",
            "\u001b[0;32m/usr/local/lib/python3.10/dist-packages/google/colab/drive.py\u001b[0m in \u001b[0;36m_mount\u001b[0;34m(mountpoint, force_remount, timeout_ms, ephemeral, readonly)\u001b[0m\n\u001b[1;32m    135\u001b[0m   )\n\u001b[1;32m    136\u001b[0m   \u001b[0;32mif\u001b[0m \u001b[0mephemeral\u001b[0m\u001b[0;34m:\u001b[0m\u001b[0;34m\u001b[0m\u001b[0;34m\u001b[0m\u001b[0m\n\u001b[0;32m--> 137\u001b[0;31m     _message.blocking_request(\n\u001b[0m\u001b[1;32m    138\u001b[0m         \u001b[0;34m'request_auth'\u001b[0m\u001b[0;34m,\u001b[0m\u001b[0;34m\u001b[0m\u001b[0;34m\u001b[0m\u001b[0m\n\u001b[1;32m    139\u001b[0m         \u001b[0mrequest\u001b[0m\u001b[0;34m=\u001b[0m\u001b[0;34m{\u001b[0m\u001b[0;34m'authType'\u001b[0m\u001b[0;34m:\u001b[0m \u001b[0;34m'dfs_ephemeral'\u001b[0m\u001b[0;34m}\u001b[0m\u001b[0;34m,\u001b[0m\u001b[0;34m\u001b[0m\u001b[0;34m\u001b[0m\u001b[0m\n",
            "\u001b[0;32m/usr/local/lib/python3.10/dist-packages/google/colab/_message.py\u001b[0m in \u001b[0;36mblocking_request\u001b[0;34m(request_type, request, timeout_sec, parent)\u001b[0m\n\u001b[1;32m    174\u001b[0m       \u001b[0mrequest_type\u001b[0m\u001b[0;34m,\u001b[0m \u001b[0mrequest\u001b[0m\u001b[0;34m,\u001b[0m \u001b[0mparent\u001b[0m\u001b[0;34m=\u001b[0m\u001b[0mparent\u001b[0m\u001b[0;34m,\u001b[0m \u001b[0mexpect_reply\u001b[0m\u001b[0;34m=\u001b[0m\u001b[0;32mTrue\u001b[0m\u001b[0;34m\u001b[0m\u001b[0;34m\u001b[0m\u001b[0m\n\u001b[1;32m    175\u001b[0m   )\n\u001b[0;32m--> 176\u001b[0;31m   \u001b[0;32mreturn\u001b[0m \u001b[0mread_reply_from_input\u001b[0m\u001b[0;34m(\u001b[0m\u001b[0mrequest_id\u001b[0m\u001b[0;34m,\u001b[0m \u001b[0mtimeout_sec\u001b[0m\u001b[0;34m)\u001b[0m\u001b[0;34m\u001b[0m\u001b[0;34m\u001b[0m\u001b[0m\n\u001b[0m",
            "\u001b[0;32m/usr/local/lib/python3.10/dist-packages/google/colab/_message.py\u001b[0m in \u001b[0;36mread_reply_from_input\u001b[0;34m(message_id, timeout_sec)\u001b[0m\n\u001b[1;32m    101\u001b[0m     ):\n\u001b[1;32m    102\u001b[0m       \u001b[0;32mif\u001b[0m \u001b[0;34m'error'\u001b[0m \u001b[0;32min\u001b[0m \u001b[0mreply\u001b[0m\u001b[0;34m:\u001b[0m\u001b[0;34m\u001b[0m\u001b[0;34m\u001b[0m\u001b[0m\n\u001b[0;32m--> 103\u001b[0;31m         \u001b[0;32mraise\u001b[0m \u001b[0mMessageError\u001b[0m\u001b[0;34m(\u001b[0m\u001b[0mreply\u001b[0m\u001b[0;34m[\u001b[0m\u001b[0;34m'error'\u001b[0m\u001b[0;34m]\u001b[0m\u001b[0;34m)\u001b[0m\u001b[0;34m\u001b[0m\u001b[0;34m\u001b[0m\u001b[0m\n\u001b[0m\u001b[1;32m    104\u001b[0m       \u001b[0;32mreturn\u001b[0m \u001b[0mreply\u001b[0m\u001b[0;34m.\u001b[0m\u001b[0mget\u001b[0m\u001b[0;34m(\u001b[0m\u001b[0;34m'data'\u001b[0m\u001b[0;34m,\u001b[0m \u001b[0;32mNone\u001b[0m\u001b[0;34m)\u001b[0m\u001b[0;34m\u001b[0m\u001b[0;34m\u001b[0m\u001b[0m\n\u001b[1;32m    105\u001b[0m \u001b[0;34m\u001b[0m\u001b[0m\n",
            "\u001b[0;31mMessageError\u001b[0m: Error: credential propagation was unsuccessful"
          ]
        }
      ],
      "source": [
        "from google.colab import drive\n",
        "drive.mount('/content/drive')"
      ]
    },
    {
      "cell_type": "code",
      "source": [],
      "metadata": {
        "id": "0VBGbDNlVLY-"
      },
      "execution_count": null,
      "outputs": []
    },
    {
      "cell_type": "code",
      "execution_count": null,
      "metadata": {
        "id": "nT8jFPXW0r84"
      },
      "outputs": [],
      "source": [
        "zip_path = \"/content/drive/MyDrive/codes/TopDownEmissions_GOSAT_post_coal_GEOS_CHEM_2019.tif_undefined.zip\"\n",
        "extracted_dir = \"/content/drive/MyDrive/extracted_data/\""
      ]
    },
    {
      "cell_type": "markdown",
      "metadata": {
        "id": "-fPszjbrgmmQ"
      },
      "source": [
        "**dataset documentation can be found here**\n",
        "\n",
        "https://catalog.data.gov/dataset/global-historical-climatology-network-daily-ghcn-daily-version-32"
      ]
    },
    {
      "cell_type": "code",
      "execution_count": null,
      "metadata": {
        "id": "FedAraKfywlq"
      },
      "outputs": [],
      "source": [
        "with zipfile.ZipFile(zip_path, 'r') as zip_ref:\n",
        "    zip_ref.extractall(extracted_dir)"
      ]
    },
    {
      "cell_type": "code",
      "execution_count": null,
      "metadata": {
        "id": "ZqxoQ3EF1mY4"
      },
      "outputs": [],
      "source": [
        "extracted_files = os.listdir(extracted_dir)\n",
        "print(f\"Extracted files: {extracted_files}\")"
      ]
    },
    {
      "cell_type": "code",
      "execution_count": null,
      "metadata": {
        "id": "7SH05TU6y1Y8"
      },
      "outputs": [],
      "source": [
        "tif_files = [os.path.join(extracted_dir, f) for f in os.listdir(extracted_dir) if f.endswith('.tif')]"
      ]
    },
    {
      "cell_type": "code",
      "execution_count": null,
      "metadata": {
        "id": "t-xeD0jS2mFn"
      },
      "outputs": [],
      "source": [
        "src_files_to_mosaic = []\n",
        "\n",
        "for tif_file in tif_files:\n",
        "    src = rasterio.open(tif_file)\n",
        "    src_files_to_mosaic.append(src)"
      ]
    },
    {
      "cell_type": "code",
      "execution_count": null,
      "metadata": {
        "id": "xBkGel1i2n1G"
      },
      "outputs": [],
      "source": [
        "mosaic, out_trans = merge(src_files_to_mosaic)"
      ]
    },
    {
      "cell_type": "code",
      "execution_count": null,
      "metadata": {
        "id": "vS09E0nU2svg"
      },
      "outputs": [],
      "source": [
        "# metadata of the first file to use for the merged file\n",
        "out_meta = src_files_to_mosaic[0].meta.copy()\n",
        "out_meta"
      ]
    },
    {
      "cell_type": "code",
      "execution_count": null,
      "metadata": {
        "id": "eG29BI242s7F"
      },
      "outputs": [],
      "source": [
        "output_path = \"merged_output.tif\"\n",
        "with rasterio.open(output_path, \"w\", **out_meta) as dest:\n",
        "    dest.write(mosaic)\n",
        "\n",
        "print(f\"Merged file saved as: {output_path}\")\n",
        "\n",
        "# visualizing the merged raster\n",
        "show(mosaic, cmap='viridis')"
      ]
    },
    {
      "cell_type": "code",
      "execution_count": null,
      "metadata": {
        "id": "1EgUvqB46rQ7"
      },
      "outputs": [],
      "source": [
        "merged_tif = \"merged_output.tif\"\n",
        "\n",
        "# print CRS\n",
        "with rasterio.open(merged_tif) as dataset:\n",
        "    print(f\"CRS of the merged raster: {dataset.crs}\")\n",
        "    print(f\"Bounds of the raster: {dataset.bounds}\")\n"
      ]
    },
    {
      "cell_type": "code",
      "execution_count": null,
      "metadata": {
        "id": "VI3aMemS2s9m"
      },
      "outputs": [],
      "source": [
        "from rasterio.transform import rowcol\n",
        "from pyproj import Proj, transform"
      ]
    },
    {
      "cell_type": "code",
      "execution_count": null,
      "metadata": {
        "id": "0g2q7nkFA0uL"
      },
      "outputs": [],
      "source": [
        "import pandas as pd"
      ]
    },
    {
      "cell_type": "code",
      "execution_count": null,
      "metadata": {
        "id": "9twwwEuI2tAW"
      },
      "outputs": [],
      "source": [
        "merged_tif = \"merged_output.tif\""
      ]
    },
    {
      "cell_type": "code",
      "execution_count": null,
      "metadata": {
        "id": "1SMAV1ag-CAI"
      },
      "outputs": [],
      "source": [
        "import matplotlib.pyplot as plt\n",
        "from rasterio.windows import from_bounds\n",
        "\n",
        "\n",
        "merged_tif = \"merged_output.tif\"\n",
        "\n",
        "# bounding box for DRC\n",
        "drc_bounds = {\n",
        "    \"west\": 12.0,\n",
        "    \"east\": 31.0,\n",
        "    \"south\": -13.0,\n",
        "    \"north\": 5.0\n",
        "}\n",
        "\n",
        "with rasterio.open(merged_tif) as dataset:\n",
        "    # window\n",
        "    window = from_bounds(drc_bounds['west'], drc_bounds['south'],\n",
        "                         drc_bounds['east'], drc_bounds['north'],\n",
        "                         transform=dataset.transform)\n",
        "\n",
        "    data = dataset.read(1, window=window)\n",
        "\n",
        "    plt.imshow(data, cmap='viridis', extent=(drc_bounds['west'], drc_bounds['east'],\n",
        "                                             drc_bounds['south'], drc_bounds['north']))\n",
        "    plt.colorbar(label='Values')\n",
        "    plt.title(\"Data for Democratic Republic of the Congo (DRC)\")\n",
        "    plt.show()\n"
      ]
    },
    {
      "cell_type": "code",
      "execution_count": null,
      "metadata": {
        "id": "CsAixNGdAFpd"
      },
      "outputs": [],
      "source": [
        "# bounding box around Lubumbashi\n",
        "lubum_box = {\n",
        "    \"west\": 27.1960,\n",
        "    \"east\": 27.7247,\n",
        "    \"south\": -11.7934,\n",
        "    \"north\": -11.4894\n",
        "}"
      ]
    },
    {
      "cell_type": "code",
      "execution_count": null,
      "metadata": {
        "id": "BgF60ck5AWSV"
      },
      "outputs": [],
      "source": [
        "df = pd.DataFrame(data)"
      ]
    },
    {
      "cell_type": "code",
      "execution_count": null,
      "metadata": {
        "id": "iQapvsxkAsOr"
      },
      "outputs": [],
      "source": [
        "df"
      ]
    },
    {
      "cell_type": "code",
      "execution_count": null,
      "metadata": {
        "id": "pS3elDtcA5nS"
      },
      "outputs": [],
      "source": [
        "with rasterio.open(merged_tif) as dataset:\n",
        "    # window\n",
        "    window = from_bounds(lubum_box['west'], lubum_box['south'],\n",
        "                         lubum_box['east'], lubum_box['north'],\n",
        "                         transform=dataset.transform)\n",
        "\n",
        "    data_l = dataset.read(1, window=window)"
      ]
    },
    {
      "cell_type": "code",
      "execution_count": null,
      "metadata": {
        "id": "wA2RD6tnkLSj"
      },
      "outputs": [],
      "source": [
        "df1 = pd.DataFrame(data_l)\n",
        "df1"
      ]
    },
    {
      "cell_type": "code",
      "execution_count": null,
      "metadata": {
        "id": "BBAUDc2tma8n"
      },
      "outputs": [],
      "source": [
        "zip_path1 = \"/content/drive/MyDrive/codes/methane_emis_fossil_199901.tif_undefined (1).zip\"\n",
        "extracted_dir1 = \"/content/drive/MyDrive/extracted_data1/\""
      ]
    },
    {
      "cell_type": "markdown",
      "metadata": {
        "id": "fQPCRwY-4uq2"
      },
      "source": [
        "**Documentation:**\n",
        "https://earth.gov/ghgcenter/data-catalog/tm54dvar-ch4flux-monthgrid-v1"
      ]
    },
    {
      "cell_type": "code",
      "execution_count": null,
      "metadata": {
        "id": "8pWmTClz32Ny"
      },
      "outputs": [],
      "source": [
        "with zipfile.ZipFile(zip_path1, 'r') as zip_ref:\n",
        "    zip_ref.extractall(extracted_dir1)"
      ]
    },
    {
      "cell_type": "code",
      "execution_count": null,
      "metadata": {
        "id": "4tKAzDZH4RJx"
      },
      "outputs": [],
      "source": [
        "extracted_files1 = os.listdir(extracted_dir1)\n",
        "print(f\"Extracted files: {extracted_files1}\")"
      ]
    },
    {
      "cell_type": "code",
      "execution_count": null,
      "metadata": {
        "id": "Id2TAfWp4aXS"
      },
      "outputs": [],
      "source": [
        "tif_files1 = [os.path.join(extracted_dir1, f) for f in os.listdir(extracted_dir1) if f.endswith('.tif')]"
      ]
    },
    {
      "cell_type": "code",
      "execution_count": null,
      "metadata": {
        "id": "KRN_A5P04trq"
      },
      "outputs": [],
      "source": [
        "src_files_to_mosaic1 = []\n",
        "\n",
        "for tif_file in tif_files1:\n",
        "    src = rasterio.open(tif_file)\n",
        "    src_files_to_mosaic1.append(src)"
      ]
    },
    {
      "cell_type": "code",
      "execution_count": null,
      "metadata": {
        "id": "G5xaVKo46TIl"
      },
      "outputs": [],
      "source": [
        "mosaic1, out_trans1 = merge(src_files_to_mosaic1)"
      ]
    },
    {
      "cell_type": "code",
      "execution_count": null,
      "metadata": {
        "id": "kdrSIQ606W7S"
      },
      "outputs": [],
      "source": [
        "out_meta1 = src_files_to_mosaic1[0].meta.copy()"
      ]
    },
    {
      "cell_type": "code",
      "execution_count": null,
      "metadata": {
        "id": "EOskzf_j716n"
      },
      "outputs": [],
      "source": [
        "output_path1 = \"merged_output1.tif\"\n",
        "with rasterio.open(output_path1, \"w\", **out_meta1) as dest:\n",
        "    dest.write(mosaic1)\n",
        "\n",
        "print(f\"Merged file saved as: {output_path1}\")\n",
        "\n",
        "show(mosaic1, cmap='viridis')"
      ]
    },
    {
      "cell_type": "code",
      "execution_count": null,
      "metadata": {
        "id": "1M-8-dQ676Wj"
      },
      "outputs": [],
      "source": [
        "merged_tif1 = \"merged_output1.tif\"\n",
        "\n",
        "drc_bounds = {\n",
        "    \"west\": 12.0,\n",
        "    \"east\": 31.0,\n",
        "    \"south\": -13.0,\n",
        "    \"north\": 5.0\n",
        "}\n",
        "with rasterio.open(merged_tif1) as dataset:\n",
        "    window = from_bounds(drc_bounds['west'], drc_bounds['south'],\n",
        "                         drc_bounds['east'], drc_bounds['north'],\n",
        "                         transform=dataset.transform)\n",
        "\n",
        "    data1 = dataset.read(1, window=window)\n",
        "    plt.imshow(data1, cmap='viridis', extent=(drc_bounds['west'], drc_bounds['east'],\n",
        "                                             drc_bounds['south'], drc_bounds['north']))\n",
        "    plt.colorbar(label='Values')\n",
        "    plt.title(\"Data for Democratic Republic of the Congo (DRC)\")\n",
        "    plt.show()"
      ]
    },
    {
      "cell_type": "code",
      "execution_count": null,
      "metadata": {
        "id": "t036RqaWS7Wg"
      },
      "outputs": [],
      "source": [
        "with rasterio.open(merged_tif1) as dataset:\n",
        "    print(f\"Number of layers (bands): {dataset.count}\")\n",
        "\n",
        "with rasterio.open(\"/content/drive/MyDrive/extracted_data1/methane_emis_fossil_199902.tif\") as src:\n",
        "    print(f\"Number of bands: {src.count}\")\n",
        "    print(f\"Width: {src.width}, Height: {src.height}\")\n",
        "    print(f\"CRS: {src.crs}\")\n",
        "    print(f\"Bounds: {src.bounds}\")"
      ]
    },
    {
      "cell_type": "code",
      "execution_count": null,
      "metadata": {
        "id": "EzeZzn4-Ad9k"
      },
      "outputs": [],
      "source": [
        "df1 = pd.DataFrame(data1)\n",
        "df1"
      ]
    }
  ],
  "metadata": {
    "colab": {
      "provenance": [],
      "include_colab_link": true
    },
    "kernelspec": {
      "display_name": "Python 3",
      "name": "python3"
    },
    "language_info": {
      "name": "python"
    }
  },
  "nbformat": 4,
  "nbformat_minor": 0
}