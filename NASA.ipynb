{
  "cells": [
    {
      "cell_type": "markdown",
      "metadata": {
        "id": "view-in-github",
        "colab_type": "text"
      },
      "source": [
        "<a href=\"https://colab.research.google.com/github/XdstruCTor/climate-change-data/blob/main/NASA.ipynb\" target=\"_parent\"><img src=\"https://colab.research.google.com/assets/colab-badge.svg\" alt=\"Open In Colab\"/></a>"
      ]
    },
    {
      "cell_type": "markdown",
      "source": [
        "Imports the necessary Python libraries for data processing, visualization, and geospatial analysis. Key libraries include:\n",
        "- `matplotlib.pyplot` for plotting and visualization.\n",
        "- `numpy` for numerical operations.\n",
        "- `pandas` for data manipulation and analysis.\n",
        "- `rasterio` for working with geospatial raster data.\n",
        "\n",
        "The `rasterio` library is installed using `pip` to enable reading, writing, and manipulating geospatial raster data. This step ensures that all dependencies, such as `affine`, `click`, and `cligj`, are installed.\n",
        "\n",
        "Imports specific modules from `rasterio`:\n",
        "- `merge` for combining multiple raster files into a single mosaic.\n",
        "- `show` for visualizing raster data.\n",
        "- `os` for interacting with the file system."
      ],
      "metadata": {
        "id": "4CgE_pWdUIH3"
      }
    },
    {
      "cell_type": "code",
      "execution_count": null,
      "metadata": {
        "id": "-97CtUZha4Va"
      },
      "outputs": [],
      "source": [
        "!pip install rasterio\n",
        "import matplotlib.pyplot as plt\n",
        "import numpy as np\n",
        "import pandas as pd\n",
        "import rasterio\n",
        "from rasterio.merge import merge\n",
        "from rasterio.plot import show\n",
        "import os"
      ]
    },
    {
      "cell_type": "markdown",
      "source": [
        "A ZIP file containing geospatial data is extracted to a specified directory. This step prepares the data for further processing by unpacking the compressed files."
      ],
      "metadata": {
        "id": "sWUSV524VUyU"
      }
    },
    {
      "cell_type": "code",
      "execution_count": null,
      "metadata": {
        "id": "maBpTbwo0pWx"
      },
      "outputs": [],
      "source": [
        "import zipfile"
      ]
    },
    {
      "cell_type": "code",
      "execution_count": null,
      "metadata": {
        "id": "nT8jFPXW0r84"
      },
      "outputs": [],
      "source": [
        "zip_path = \"path-to-data/TopDownEmissions_GOSAT_post_coal_GEOS_CHEM_2019.tif_undefined.zip\"\n",
        "extracted_dir = \"path-to-exracted/extracted_data/\""
      ]
    },
    {
      "cell_type": "code",
      "execution_count": null,
      "metadata": {
        "id": "FedAraKfywlq"
      },
      "outputs": [],
      "source": [
        "with zipfile.ZipFile(zip_path, 'r') as zip_ref:\n",
        "    zip_ref.extractall(extracted_dir)"
      ]
    },
    {
      "cell_type": "code",
      "execution_count": null,
      "metadata": {
        "id": "ZqxoQ3EF1mY4"
      },
      "outputs": [],
      "source": [
        "extracted_files = os.listdir(extracted_dir)\n",
        "print(f\"Extracted files: {extracted_files}\")"
      ]
    },
    {
      "cell_type": "markdown",
      "source": [
        "Only TIFF files (geospatial raster data) are selected from the extracted files. These files will be used for further analysis and merging.\n",
        "\n",
        "Each TIFF file is opened using `rasterio`, and the file objects are stored in a list. This prepares the files for the mosaicking process, where multiple raster files are combined into a single raster.\n",
        "\n",
        "The `merge` function from `rasterio` is used to combine the individual raster files into a single mosaic. This creates a unified raster dataset that covers the entire area of interest.\n",
        "\n",
        "The merged raster is saved as a new TIFF file. The metadata from the first input file is used to ensure consistency in the output file.\n",
        "\n",
        "The merged raster is visualized using `rasterio.plot.show`. The `viridis` colormap is applied to highlight the data values, providing a clear visual representation of the raster.\n",
        "\n",
        "The Coordinate Reference System (CRS) and bounds of the merged raster are printed. This metadata is essential for understanding the spatial context of the data."
      ],
      "metadata": {
        "id": "VDSx7CBBVo5F"
      }
    },
    {
      "cell_type": "markdown",
      "metadata": {
        "id": "-fPszjbrgmmQ"
      },
      "source": [
        "**dataset1 (GHCN-Daily, Version 3) documentation can be found here**\n",
        "\n",
        "\n",
        "\n",
        "https://catalog.data.gov/dataset/global-historical-climatology-network-daily-ghcn-daily-version-32"
      ]
    },
    {
      "cell_type": "code",
      "execution_count": null,
      "metadata": {
        "id": "7SH05TU6y1Y8"
      },
      "outputs": [],
      "source": [
        "tif_files = [os.path.join(extracted_dir, f) for f in os.listdir(extracted_dir) if f.endswith('.tif')]\n",
        "src_files_to_mosaic = []\n",
        "\n",
        "for tif_file in tif_files:\n",
        "    src = rasterio.open(tif_file)\n",
        "    src_files_to_mosaic.append(src)\n",
        "mosaic, out_trans = merge(src_files_to_mosaic)\n",
        "# metadata of the first file to use for the merged file\n",
        "out_meta = src_files_to_mosaic[0].meta.copy()\n",
        "out_meta\n",
        "output_path = \"merged_output.tif\"\n",
        "with rasterio.open(output_path, \"w\", **out_meta) as dest:\n",
        "    dest.write(mosaic)\n",
        "\n",
        "print(f\"Merged file saved as: {output_path}\")\n",
        "\n",
        "# visualizing the merged raster\n",
        "show(mosaic, cmap='viridis')\n",
        "merged_tif = \"merged_output.tif\"\n",
        "\n",
        "# print CRS\n",
        "with rasterio.open(merged_tif) as dataset:\n",
        "    print(f\"CRS of the merged raster: {dataset.crs}\")\n",
        "    print(f\"Bounds of the raster: {dataset.bounds}\")\n"
      ]
    },
    {
      "cell_type": "markdown",
      "source": [
        "A bounding box is defined for the Democratic Republic of the Congo (DRC) to extract and visualize data for this specific region. The bounding box coordinates are specified in longitude and latitude.\n",
        "\n",
        "Using the bounding box, a subset of the merged raster data is extracted and visualized. This allows for focused analysis of the DRC region.\n",
        "\n",
        "\n",
        "\n",
        "A smaller bounding box is defined around Lubumbashi, a city in the DRC. Data for this specific location is extracted and stored in a DataFrame for further analysis.\n",
        "\n",
        "A second dataset (methane emissions) is processed similarly to the first. The data is extracted, merged, and visualized, following the same workflow as before.\n",
        "\n",
        "The metadata of the second merged raster is inspected, including the number of layers (bands), width, height, CRS, and bounds. To ensure the data is correctly processed and ready for analysis.\n",
        "\n",
        "The raster data from the second dataset is converted into a Pandas DataFrame. This allows for further analysis and comparison with the first dataset.\n",
        "\n",
        "\n",
        "\n",
        "\n",
        "\n"
      ],
      "metadata": {
        "id": "mxoy3VBnXxHx"
      }
    },
    {
      "cell_type": "code",
      "execution_count": null,
      "metadata": {
        "id": "VI3aMemS2s9m"
      },
      "outputs": [],
      "source": [
        "from rasterio.transform import rowcol\n",
        "from pyproj import Proj, transform\n",
        "merged_tif = \"merged_output.tif\"\n",
        "import matplotlib.pyplot as plt\n",
        "from rasterio.windows import from_bounds\n",
        "\n",
        "\n",
        "merged_tif = \"merged_output.tif\"\n",
        "\n",
        "# bounding box for DRC\n",
        "drc_bounds = {\n",
        "    \"west\": 12.0,\n",
        "    \"east\": 31.0,\n",
        "    \"south\": -13.0,\n",
        "    \"north\": 5.0\n",
        "}\n",
        "\n",
        "with rasterio.open(merged_tif) as dataset:\n",
        "    # window\n",
        "    window = from_bounds(drc_bounds['west'], drc_bounds['south'],\n",
        "                         drc_bounds['east'], drc_bounds['north'],\n",
        "                         transform=dataset.transform)\n",
        "\n",
        "    data = dataset.read(1, window=window)\n",
        "\n",
        "    plt.imshow(data, cmap='viridis', extent=(drc_bounds['west'], drc_bounds['east'],\n",
        "                                             drc_bounds['south'], drc_bounds['north']))\n",
        "    plt.colorbar(label='Values')\n",
        "    plt.title(\"Data for Democratic Republic of the Congo (DRC)\")\n",
        "    plt.show()\n"
      ]
    },
    {
      "cell_type": "code",
      "execution_count": null,
      "metadata": {
        "id": "CsAixNGdAFpd"
      },
      "outputs": [],
      "source": [
        "# bounding box around Lubumbashi\n",
        "lubum_box = {\n",
        "    \"west\": 27.1960,\n",
        "    \"east\": 27.7247,\n",
        "    \"south\": -11.7934,\n",
        "    \"north\": -11.4894\n",
        "}\n",
        "with rasterio.open(merged_tif) as dataset:\n",
        "    # window\n",
        "    window = from_bounds(lubum_box['west'], lubum_box['south'],\n",
        "                         lubum_box['east'], lubum_box['north'],\n",
        "                         transform=dataset.transform)\n",
        "\n",
        "    data_l = dataset.read(1, window=window)\n",
        "zip_path1 = \"/content/drive/MyDrive/codes/methane_emis_fossil_199901.tif_undefined (1).zip\"\n",
        "extracted_dir1 = \"/content/drive/MyDrive/extracted_data1/\""
      ]
    },
    {
      "cell_type": "markdown",
      "metadata": {
        "id": "fQPCRwY-4uq2"
      },
      "source": [
        "**Documentation 2nd dataset (methane emissions):**\n",
        "https://earth.gov/ghgcenter/data-catalog/tm54dvar-ch4flux-monthgrid-v1"
      ]
    },
    {
      "cell_type": "code",
      "execution_count": null,
      "metadata": {
        "id": "8pWmTClz32Ny"
      },
      "outputs": [],
      "source": [
        "with zipfile.ZipFile(zip_path1, 'r') as zip_ref:\n",
        "    zip_ref.extractall(extracted_dir1)\n",
        "extracted_files1 = os.listdir(extracted_dir1)\n",
        "print(f\"Extracted files: {extracted_files1}\")\n",
        "tif_files1 = [os.path.join(extracted_dir1, f) for f in os.listdir(extracted_dir1) if f.endswith('.tif')]\n",
        "src_files_to_mosaic1 = []\n",
        "\n",
        "for tif_file in tif_files1:\n",
        "    src = rasterio.open(tif_file)\n",
        "    src_files_to_mosaic1.append(src)\n",
        "mosaic1, out_trans1 = merge(src_files_to_mosaic1)\n",
        "out_meta1 = src_files_to_mosaic1[0].meta.copy()"
      ]
    },
    {
      "cell_type": "code",
      "execution_count": null,
      "metadata": {
        "id": "EOskzf_j716n"
      },
      "outputs": [],
      "source": [
        "output_path1 = \"merged_output1.tif\"\n",
        "with rasterio.open(output_path1, \"w\", **out_meta1) as dest:\n",
        "    dest.write(mosaic1)\n",
        "\n",
        "print(f\"Merged file saved as: {output_path1}\")\n",
        "\n",
        "show(mosaic1, cmap='viridis')\n",
        "merged_tif1 = \"merged_output1.tif\"\n",
        "\n",
        "drc_bounds = {\n",
        "    \"west\": 12.0,\n",
        "    \"east\": 31.0,\n",
        "    \"south\": -13.0,\n",
        "    \"north\": 5.0\n",
        "}\n",
        "with rasterio.open(merged_tif1) as dataset:\n",
        "    window = from_bounds(drc_bounds['west'], drc_bounds['south'],\n",
        "                         drc_bounds['east'], drc_bounds['north'],\n",
        "                         transform=dataset.transform)\n",
        "\n",
        "    data1 = dataset.read(1, window=window)\n",
        "    plt.imshow(data1, cmap='viridis', extent=(drc_bounds['west'], drc_bounds['east'],\n",
        "                                             drc_bounds['south'], drc_bounds['north']))\n",
        "    plt.colorbar(label='Values')\n",
        "    plt.title(\"Data for Democratic Republic of the Congo (DRC)\")\n",
        "    plt.show()"
      ]
    }
  ],
  "metadata": {
    "colab": {
      "provenance": [],
      "include_colab_link": true
    },
    "kernelspec": {
      "display_name": "Python 3",
      "name": "python3"
    },
    "language_info": {
      "name": "python"
    }
  },
  "nbformat": 4,
  "nbformat_minor": 0
}